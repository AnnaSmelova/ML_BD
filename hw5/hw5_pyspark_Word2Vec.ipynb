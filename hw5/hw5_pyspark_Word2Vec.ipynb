{
 "cells": [
  {
   "cell_type": "markdown",
   "id": "94aba75f",
   "metadata": {},
   "source": [
    "### Домашнее задание основано на соревновании: \n",
    "https://www.kaggle.com/competitions/jigsaw-toxic-comment-classification-challenge/data\n",
    "#### Цель: обучить текстовый классификатор на простых фичах с помощью Spark ML\n",
    "1) HashingTF и IDF - 70 баллов - в ноутбуке **hw5_pyspark_TFIDF**\n",
    "2) **Word2Vec - 30 баллов**<br>\n",
    "\n",
    "ДЗ предлагается сделать в ноутбуке и в формате ipynb загрузить в репозиторий на Github и прислать ссылку на него в интерфейсе сдачи"
   ]
  },
  {
   "cell_type": "markdown",
   "id": "8aa48b49",
   "metadata": {},
   "source": [
    "## Необходимые библиотеки"
   ]
  },
  {
   "cell_type": "code",
   "execution_count": 1,
   "id": "3b9a6bf5",
   "metadata": {},
   "outputs": [],
   "source": [
    "import findspark\n",
    "findspark.init(\"/opt/spark\")\n",
    "import random\n",
    "import pandas as pd\n",
    "import matplotlib.pyplot as plt\n",
    "from pyspark.sql import SparkSession\n",
    "from pyspark.sql.functions import regexp_replace\n",
    "from pyspark.ml.feature import Tokenizer\n",
    "from pyspark.ml.feature import StopWordsRemover, HashingTF, IDF\n",
    "from pyspark.ml.feature import Word2Vec\n",
    "from pyspark.ml.classification import LogisticRegression\n",
    "\n",
    "import warnings\n",
    "warnings.filterwarnings('ignore')"
   ]
  },
  {
   "cell_type": "code",
   "execution_count": 2,
   "id": "52fa527a",
   "metadata": {},
   "outputs": [
    {
     "name": "stdout",
     "output_type": "stream",
     "text": [
      "22/12/05 15:26:02 WARN SparkSession: Using an existing Spark session; only runtime SQL configurations will take effect.\n"
     ]
    }
   ],
   "source": [
    "spark = SparkSession.builder.appName('word2vec').getOrCreate()"
   ]
  },
  {
   "cell_type": "markdown",
   "id": "37106b76",
   "metadata": {},
   "source": [
    "## Загрузка данных"
   ]
  },
  {
   "cell_type": "markdown",
   "id": "e63836e0",
   "metadata": {},
   "source": [
    "Загружаем только тренировочные данные, на них будем учить и валидировать. Для тестовых данных меток на kaggle нет, поэтому их не рассматриваем."
   ]
  },
  {
   "cell_type": "code",
   "execution_count": 3,
   "id": "ee7c471e",
   "metadata": {},
   "outputs": [],
   "source": [
    "# Так не вышло считать - криво разбивалось из-за запятых и \\n в текстах\n",
    "# Использовала предобработанный датасет ниже\n",
    "#df = spark.read.option(\"lineSep\", \"\\n\").option(\"multiLine\",\"true\").csv(\"data/train.csv\", header = True, inferSchema = True)\n",
    "#df.printSchema()"
   ]
  },
  {
   "cell_type": "code",
   "execution_count": 4,
   "id": "127ae263",
   "metadata": {},
   "outputs": [
    {
     "name": "stderr",
     "output_type": "stream",
     "text": [
      "[Stage 1:>                                                          (0 + 4) / 4]\r"
     ]
    },
    {
     "name": "stdout",
     "output_type": "stream",
     "text": [
      "root\n",
      " |-- id: string (nullable = true)\n",
      " |-- comment_text: string (nullable = true)\n",
      " |-- toxic: integer (nullable = true)\n",
      " |-- severe_toxic: integer (nullable = true)\n",
      " |-- obscene: integer (nullable = true)\n",
      " |-- threat: integer (nullable = true)\n",
      " |-- insult: integer (nullable = true)\n",
      " |-- identity_hate: integer (nullable = true)\n",
      "\n"
     ]
    },
    {
     "name": "stderr",
     "output_type": "stream",
     "text": [
      "\r",
      "[Stage 1:==============>                                            (1 + 3) / 4]\r",
      "\r",
      "                                                                                \r"
     ]
    }
   ],
   "source": [
    "df = spark.read.csv(\"data/train_prep.csv\", header = True, inferSchema = True)\n",
    "df.printSchema()"
   ]
  },
  {
   "cell_type": "markdown",
   "id": "a1e29dfb",
   "metadata": {},
   "source": [
    "Посмотрим на данные"
   ]
  },
  {
   "cell_type": "code",
   "execution_count": 5,
   "id": "7ae8aa43",
   "metadata": {},
   "outputs": [
    {
     "name": "stderr",
     "output_type": "stream",
     "text": [
      "[Stage 2:=============================>                             (2 + 2) / 4]\r"
     ]
    },
    {
     "name": "stdout",
     "output_type": "stream",
     "text": [
      "(159571, 8)\n"
     ]
    },
    {
     "name": "stderr",
     "output_type": "stream",
     "text": [
      "\r",
      "                                                                                \r"
     ]
    }
   ],
   "source": [
    "print((df.count(), len(df.columns)))"
   ]
  },
  {
   "cell_type": "code",
   "execution_count": 6,
   "id": "15321215",
   "metadata": {},
   "outputs": [
    {
     "name": "stdout",
     "output_type": "stream",
     "text": [
      "+----------------+--------------------+-----+------------+-------+------+------+-------------+\n",
      "|              id|        comment_text|toxic|severe_toxic|obscene|threat|insult|identity_hate|\n",
      "+----------------+--------------------+-----+------------+-------+------+------+-------------+\n",
      "|0000997932d777bf|ExplanationWhy th...|    0|           0|      0|     0|     0|            0|\n",
      "|000103f0d9cfb60f|D'aww! He matches...|    0|           0|      0|     0|     0|            0|\n",
      "|000113f07ec002fd|Hey man I'm reall...|    0|           0|      0|     0|     0|            0|\n",
      "|0001b41b1c6bb37e|\"\"\"MoreI can't ma...|    0|           0|      0|     0|     0|            0|\n",
      "|0001d958c54c6e35|You sir are my he...|    0|           0|      0|     0|     0|            0|\n",
      "|00025465d4725e87|\"\"\"Congratulation...|    0|           0|      0|     0|     0|            0|\n",
      "|0002bcb3da6cb337|COCKSUCKER BEFORE...|    1|           1|      1|     0|     1|            0|\n",
      "|00031b1e95af7921|Your vandalism to...|    0|           0|      0|     0|     0|            0|\n",
      "|00037261f536c51d|Sorry if the word...|    0|           0|      0|     0|     0|            0|\n",
      "|00040093b2687caa|alignment on this...|    0|           0|      0|     0|     0|            0|\n",
      "+----------------+--------------------+-----+------------+-------+------+------+-------------+\n",
      "only showing top 10 rows\n",
      "\n"
     ]
    }
   ],
   "source": [
    "df.show(10)"
   ]
  },
  {
   "cell_type": "markdown",
   "id": "aca54415",
   "metadata": {},
   "source": [
    "## Подготовка данных"
   ]
  },
  {
   "cell_type": "markdown",
   "id": "d9e1ed71",
   "metadata": {},
   "source": [
    "Посмотрим, где есть пропуски."
   ]
  },
  {
   "cell_type": "code",
   "execution_count": 7,
   "id": "38b3c2bc",
   "metadata": {},
   "outputs": [
    {
     "name": "stderr",
     "output_type": "stream",
     "text": [
      "                                                                                \r"
     ]
    },
    {
     "name": "stdout",
     "output_type": "stream",
     "text": [
      "Пропуски в колонке id: 0 (0.00)%\n",
      "Пропуски в колонке comment_text: 0 (0.00)%\n",
      "Пропуски в колонке toxic: 8 (0.01)%\n",
      "Пропуски в колонке severe_toxic: 8 (0.01)%\n",
      "Пропуски в колонке obscene: 8 (0.01)%\n",
      "Пропуски в колонке threat: 8 (0.01)%\n",
      "Пропуски в колонке insult: 8 (0.01)%\n",
      "Пропуски в колонке identity_hate: 8 (0.01)%\n"
     ]
    }
   ],
   "source": [
    "print(f\"Пропуски в колонке id: {df.filter('id IS NULL').count()} ({100 * df.filter('id IS NULL').count() / df.count():.2f})%\")\n",
    "print(f\"Пропуски в колонке comment_text: {df.filter('comment_text IS NULL').count()} ({100* df.filter('comment_text IS NULL').count() / df.count():.2f})%\")\n",
    "print(f\"Пропуски в колонке toxic: {df.filter('toxic IS NULL').count()} ({100 * df.filter('toxic IS NULL').count() / df.count():.2f})%\")\n",
    "print(f\"Пропуски в колонке severe_toxic: {df.filter('severe_toxic IS NULL').count()} ({100 * df.filter('severe_toxic IS NULL').count() / df.count():.2f})%\")\n",
    "print(f\"Пропуски в колонке obscene: {df.filter('obscene IS NULL').count()} ({100 * df.filter('obscene IS NULL').count() / df.count():.2f})%\")\n",
    "print(f\"Пропуски в колонке threat: {df.filter('threat IS NULL').count()} ({100 * df.filter('threat IS NULL').count() / df.count():.2f})%\")\n",
    "print(f\"Пропуски в колонке insult: {df.filter('insult IS NULL').count()} ({100 * df.filter('insult IS NULL').count() / df.count():.2f})%\")\n",
    "print(f\"Пропуски в колонке identity_hate: {df.filter('identity_hate IS NULL').count()} ({100 * df.filter('identity_hate IS NULL').count() / df.count():.2f})%\")"
   ]
  },
  {
   "cell_type": "markdown",
   "id": "bbda8da1",
   "metadata": {},
   "source": [
    "Удалим строки, где есть пропуски"
   ]
  },
  {
   "cell_type": "code",
   "execution_count": 8,
   "id": "4f9fe834",
   "metadata": {},
   "outputs": [
    {
     "name": "stderr",
     "output_type": "stream",
     "text": [
      "\r",
      "[Stage 78:>                                                         (0 + 4) / 4]\r"
     ]
    },
    {
     "name": "stdout",
     "output_type": "stream",
     "text": [
      "159563\n"
     ]
    },
    {
     "name": "stderr",
     "output_type": "stream",
     "text": [
      "\r",
      "[Stage 78:==============>                                           (1 + 3) / 4]\r",
      "\r",
      "                                                                                \r"
     ]
    }
   ],
   "source": [
    "df = df.dropna()\n",
    "print(df.count())"
   ]
  },
  {
   "cell_type": "code",
   "execution_count": 9,
   "id": "7f074f6a",
   "metadata": {},
   "outputs": [
    {
     "name": "stdout",
     "output_type": "stream",
     "text": [
      "Пропуски в колонке id: 0 (0.00)%\n",
      "Пропуски в колонке comment_text: 0 (0.00)%\n",
      "Пропуски в колонке toxic: 0 (0.00)%\n",
      "Пропуски в колонке severe_toxic: 0 (0.00)%\n",
      "Пропуски в колонке obscene: 0 (0.00)%\n",
      "Пропуски в колонке threat: 0 (0.00)%\n",
      "Пропуски в колонке insult: 0 (0.00)%\n",
      "Пропуски в колонке identity_hate: 0 (0.00)%\n"
     ]
    }
   ],
   "source": [
    "print(f\"Пропуски в колонке id: {df.filter('id IS NULL').count()} ({100 * df.filter('id IS NULL').count() / df.count():.2f})%\")\n",
    "print(f\"Пропуски в колонке comment_text: {df.filter('comment_text IS NULL').count()} ({100* df.filter('comment_text IS NULL').count() / df.count():.2f})%\")\n",
    "print(f\"Пропуски в колонке toxic: {df.filter('toxic IS NULL').count()} ({100 * df.filter('toxic IS NULL').count() / df.count():.2f})%\")\n",
    "print(f\"Пропуски в колонке severe_toxic: {df.filter('severe_toxic IS NULL').count()} ({100 * df.filter('severe_toxic IS NULL').count() / df.count():.2f})%\")\n",
    "print(f\"Пропуски в колонке obscene: {df.filter('obscene IS NULL').count()} ({100 * df.filter('obscene IS NULL').count() / df.count():.2f})%\")\n",
    "print(f\"Пропуски в колонке threat: {df.filter('threat IS NULL').count()} ({100 * df.filter('threat IS NULL').count() / df.count():.2f})%\")\n",
    "print(f\"Пропуски в колонке insult: {df.filter('insult IS NULL').count()} ({100 * df.filter('insult IS NULL').count() / df.count():.2f})%\")\n",
    "print(f\"Пропуски в колонке identity_hate: {df.filter('identity_hate IS NULL').count()} ({100 * df.filter('identity_hate IS NULL').count() / df.count():.2f})%\")"
   ]
  },
  {
   "cell_type": "markdown",
   "id": "5d3cde26",
   "metadata": {},
   "source": [
    "## Предварительная обработка данных"
   ]
  },
  {
   "cell_type": "markdown",
   "id": "83b3e737",
   "metadata": {},
   "source": [
    "Удалим знаки препинания и цифры"
   ]
  },
  {
   "cell_type": "code",
   "execution_count": 10,
   "id": "40e033db",
   "metadata": {},
   "outputs": [],
   "source": [
    "df_prep = df.withColumn('comment_text', regexp_replace(df.comment_text, '[_()\":\\';,.!?\\\\-]', ''))\n",
    "df_prep = df_prep.withColumn('comment_text', regexp_replace(df_prep.comment_text, '[0-9]', ''))"
   ]
  },
  {
   "cell_type": "code",
   "execution_count": 11,
   "id": "b24891a3",
   "metadata": {},
   "outputs": [
    {
     "name": "stdout",
     "output_type": "stream",
     "text": [
      "+----------------+--------------------+-----+------------+-------+------+------+-------------+\n",
      "|              id|        comment_text|toxic|severe_toxic|obscene|threat|insult|identity_hate|\n",
      "+----------------+--------------------+-----+------------+-------+------+------+-------------+\n",
      "|0000997932d777bf|ExplanationWhy th...|    0|           0|      0|     0|     0|            0|\n",
      "|000103f0d9cfb60f|Daww He matches t...|    0|           0|      0|     0|     0|            0|\n",
      "|000113f07ec002fd|Hey man Im really...|    0|           0|      0|     0|     0|            0|\n",
      "|0001b41b1c6bb37e|MoreI cant make a...|    0|           0|      0|     0|     0|            0|\n",
      "|0001d958c54c6e35|You sir are my he...|    0|           0|      0|     0|     0|            0|\n",
      "|00025465d4725e87|Congratulations f...|    0|           0|      0|     0|     0|            0|\n",
      "|0002bcb3da6cb337|COCKSUCKER BEFORE...|    1|           1|      1|     0|     1|            0|\n",
      "|00031b1e95af7921|Your vandalism to...|    0|           0|      0|     0|     0|            0|\n",
      "|00037261f536c51d|Sorry if the word...|    0|           0|      0|     0|     0|            0|\n",
      "|00040093b2687caa|alignment on this...|    0|           0|      0|     0|     0|            0|\n",
      "+----------------+--------------------+-----+------------+-------+------+------+-------------+\n",
      "only showing top 10 rows\n",
      "\n"
     ]
    }
   ],
   "source": [
    "df_prep.show(10)"
   ]
  },
  {
   "cell_type": "markdown",
   "id": "6730103f",
   "metadata": {},
   "source": [
    "Обработаем лишние пробелы"
   ]
  },
  {
   "cell_type": "code",
   "execution_count": 12,
   "id": "4a9523b1",
   "metadata": {},
   "outputs": [],
   "source": [
    "df_prep = df_prep.withColumn('comment_text', regexp_replace(df_prep.comment_text, ' +', ' '))"
   ]
  },
  {
   "cell_type": "code",
   "execution_count": 13,
   "id": "d460d342",
   "metadata": {},
   "outputs": [
    {
     "name": "stderr",
     "output_type": "stream",
     "text": [
      "[Stage 154:==============>                                          (1 + 3) / 4]\r"
     ]
    },
    {
     "name": "stdout",
     "output_type": "stream",
     "text": [
      "Пропуски в колонке comment_text: 0\n"
     ]
    },
    {
     "name": "stderr",
     "output_type": "stream",
     "text": [
      "\r",
      "                                                                                \r"
     ]
    }
   ],
   "source": [
    "print(f\"Пропуски в колонке comment_text: {df_prep.filter('comment_text IS NULL').count()}\")"
   ]
  },
  {
   "cell_type": "markdown",
   "id": "ff7df08b",
   "metadata": {},
   "source": [
    "Разобьем тексты на токены"
   ]
  },
  {
   "cell_type": "code",
   "execution_count": 14,
   "id": "2a014fae",
   "metadata": {},
   "outputs": [],
   "source": [
    "df_prep = Tokenizer(inputCol='comment_text', outputCol='tokens').transform(df_prep)"
   ]
  },
  {
   "cell_type": "code",
   "execution_count": 15,
   "id": "1f710117",
   "metadata": {},
   "outputs": [
    {
     "name": "stdout",
     "output_type": "stream",
     "text": [
      "+----------------+--------------------+-----+------------+-------+------+------+-------------+--------------------+\n",
      "|              id|        comment_text|toxic|severe_toxic|obscene|threat|insult|identity_hate|              tokens|\n",
      "+----------------+--------------------+-----+------------+-------+------+------+-------------+--------------------+\n",
      "|0000997932d777bf|ExplanationWhy th...|    0|           0|      0|     0|     0|            0|[explanationwhy, ...|\n",
      "|000103f0d9cfb60f|Daww He matches t...|    0|           0|      0|     0|     0|            0|[daww, he, matche...|\n",
      "|000113f07ec002fd|Hey man Im really...|    0|           0|      0|     0|     0|            0|[hey, man, im, re...|\n",
      "|0001b41b1c6bb37e|MoreI cant make a...|    0|           0|      0|     0|     0|            0|[morei, cant, mak...|\n",
      "|0001d958c54c6e35|You sir are my he...|    0|           0|      0|     0|     0|            0|[you, sir, are, m...|\n",
      "|00025465d4725e87|Congratulations f...|    0|           0|      0|     0|     0|            0|[congratulations,...|\n",
      "|0002bcb3da6cb337|COCKSUCKER BEFORE...|    1|           1|      1|     0|     1|            0|[cocksucker, befo...|\n",
      "|00031b1e95af7921|Your vandalism to...|    0|           0|      0|     0|     0|            0|[your, vandalism,...|\n",
      "|00037261f536c51d|Sorry if the word...|    0|           0|      0|     0|     0|            0|[sorry, if, the, ...|\n",
      "|00040093b2687caa|alignment on this...|    0|           0|      0|     0|     0|            0|[alignment, on, t...|\n",
      "+----------------+--------------------+-----+------------+-------+------+------+-------------+--------------------+\n",
      "only showing top 10 rows\n",
      "\n"
     ]
    }
   ],
   "source": [
    "df_prep.show(10)"
   ]
  },
  {
   "cell_type": "markdown",
   "id": "5c268047",
   "metadata": {},
   "source": [
    "Удалим стоп-слова"
   ]
  },
  {
   "cell_type": "code",
   "execution_count": 16,
   "id": "f074458e",
   "metadata": {},
   "outputs": [],
   "source": [
    "df_prep = df_prep.select('id', 'tokens','toxic','severe_toxic','obscene','threat','insult','identity_hate')\n",
    "df_prep = StopWordsRemover(inputCol='tokens', outputCol='terms').transform(df_prep)"
   ]
  },
  {
   "cell_type": "code",
   "execution_count": 17,
   "id": "d934f61e",
   "metadata": {},
   "outputs": [
    {
     "name": "stderr",
     "output_type": "stream",
     "text": [
      "[Stage 158:==============>                                          (1 + 3) / 4]\r"
     ]
    },
    {
     "name": "stdout",
     "output_type": "stream",
     "text": [
      "Пропуски в колонке terms: 0\n"
     ]
    },
    {
     "name": "stderr",
     "output_type": "stream",
     "text": [
      "\r",
      "                                                                                \r"
     ]
    }
   ],
   "source": [
    "print(f\"Пропуски в колонке terms: {df_prep.filter('terms IS NULL').count()}\")"
   ]
  },
  {
   "cell_type": "code",
   "execution_count": 18,
   "id": "03cc7878",
   "metadata": {},
   "outputs": [
    {
     "name": "stdout",
     "output_type": "stream",
     "text": [
      "+----------------+--------------------+-----+------------+-------+------+------+-------------+--------------------+\n",
      "|              id|              tokens|toxic|severe_toxic|obscene|threat|insult|identity_hate|               terms|\n",
      "+----------------+--------------------+-----+------------+-------+------+------+-------------+--------------------+\n",
      "|0000997932d777bf|[explanationwhy, ...|    0|           0|      0|     0|     0|            0|[explanationwhy, ...|\n",
      "|000103f0d9cfb60f|[daww, he, matche...|    0|           0|      0|     0|     0|            0|[daww, matches, b...|\n",
      "|000113f07ec002fd|[hey, man, im, re...|    0|           0|      0|     0|     0|            0|[hey, man, im, re...|\n",
      "|0001b41b1c6bb37e|[morei, cant, mak...|    0|           0|      0|     0|     0|            0|[morei, cant, mak...|\n",
      "|0001d958c54c6e35|[you, sir, are, m...|    0|           0|      0|     0|     0|            0|[sir, hero, chanc...|\n",
      "|00025465d4725e87|[congratulations,...|    0|           0|      0|     0|     0|            0|[congratulations,...|\n",
      "|0002bcb3da6cb337|[cocksucker, befo...|    1|           1|      1|     0|     1|            0|[cocksucker, piss...|\n",
      "|00031b1e95af7921|[your, vandalism,...|    0|           0|      0|     0|     0|            0|[vandalism, matt,...|\n",
      "|00037261f536c51d|[sorry, if, the, ...|    0|           0|      0|     0|     0|            0|[sorry, word, non...|\n",
      "|00040093b2687caa|[alignment, on, t...|    0|           0|      0|     0|     0|            0|[alignment, subje...|\n",
      "+----------------+--------------------+-----+------------+-------+------+------+-------------+--------------------+\n",
      "only showing top 10 rows\n",
      "\n"
     ]
    }
   ],
   "source": [
    "df_prep.show(10)"
   ]
  },
  {
   "cell_type": "markdown",
   "id": "18ef577e",
   "metadata": {},
   "source": [
    "## Word2Vec"
   ]
  },
  {
   "cell_type": "code",
   "execution_count": 19,
   "id": "ac4cdf53",
   "metadata": {},
   "outputs": [
    {
     "name": "stderr",
     "output_type": "stream",
     "text": [
      "[Stage 165:>                                                        (0 + 1) / 1]\r"
     ]
    },
    {
     "name": "stdout",
     "output_type": "stream",
     "text": [
      "22/12/05 15:27:22 WARN InstanceBuilder$NativeBLAS: Failed to load implementation from:dev.ludovic.netlib.blas.JNIBLAS\n",
      "22/12/05 15:27:22 WARN InstanceBuilder$NativeBLAS: Failed to load implementation from:dev.ludovic.netlib.blas.ForeignLinkerBLAS\n"
     ]
    },
    {
     "name": "stderr",
     "output_type": "stream",
     "text": [
      "                                                                                \r"
     ]
    }
   ],
   "source": [
    "word2vec = Word2Vec(vectorSize = 100, minCount = 5, inputCol = 'terms', outputCol = 'features')\n",
    "w2v = word2vec.fit(df_prep)\n",
    "df_word2vec = w2v.transform(df_prep)"
   ]
  },
  {
   "cell_type": "code",
   "execution_count": 20,
   "id": "7eb6a20b",
   "metadata": {},
   "outputs": [
    {
     "name": "stdout",
     "output_type": "stream",
     "text": [
      "+--------------------+--------------------+\n",
      "|               terms|            features|\n",
      "+--------------------+--------------------+\n",
      "|[explanationwhy, ...|[-0.0450190391319...|\n",
      "|[daww, matches, b...|[-0.0752906489439...|\n",
      "|[hey, man, im, re...|[-0.0284788734597...|\n",
      "|[morei, cant, mak...|[0.03777701788581...|\n",
      "|[sir, hero, chanc...|[-0.0275882755716...|\n",
      "|[congratulations,...|[-0.0908168601204...|\n",
      "|[cocksucker, piss...|[0.06739733228459...|\n",
      "|[vandalism, matt,...|[0.03905218327417...|\n",
      "|[sorry, word, non...|[-0.0019645064480...|\n",
      "|[alignment, subje...|[-0.0044111460447...|\n",
      "+--------------------+--------------------+\n",
      "only showing top 10 rows\n",
      "\n"
     ]
    }
   ],
   "source": [
    "df_word2vec.select('terms', 'features').show(10)"
   ]
  },
  {
   "cell_type": "markdown",
   "id": "08d16234",
   "metadata": {},
   "source": [
    "## Классификаторы"
   ]
  },
  {
   "cell_type": "markdown",
   "id": "c7e6b576",
   "metadata": {},
   "source": [
    "Разделим данные на train и test"
   ]
  },
  {
   "cell_type": "code",
   "execution_count": 21,
   "id": "4d28a446",
   "metadata": {},
   "outputs": [
    {
     "name": "stderr",
     "output_type": "stream",
     "text": [
      "[Stage 174:==============>                                          (1 + 3) / 4]\r"
     ]
    },
    {
     "name": "stdout",
     "output_type": "stream",
     "text": [
      "125918 31549\n"
     ]
    },
    {
     "name": "stderr",
     "output_type": "stream",
     "text": [
      "\r",
      "                                                                                \r"
     ]
    }
   ],
   "source": [
    "df_prep = df_word2vec.select('features','toxic','severe_toxic','obscene','threat','insult','identity_hate')\n",
    "train, test = df_prep.randomSplit([0.8, 0.2], seed=0)\n",
    "train = train.dropDuplicates()\n",
    "test = test.dropDuplicates()\n",
    "print(train.count(), test.count())"
   ]
  },
  {
   "cell_type": "code",
   "execution_count": 22,
   "id": "576bba82",
   "metadata": {
    "scrolled": true
   },
   "outputs": [
    {
     "name": "stderr",
     "output_type": "stream",
     "text": [
      "[Stage 180:==========================================>              (3 + 1) / 4]\r"
     ]
    },
    {
     "name": "stdout",
     "output_type": "stream",
     "text": [
      "+--------------------+-----+------------+-------+------+------+-------------+\n",
      "|            features|toxic|severe_toxic|obscene|threat|insult|identity_hate|\n",
      "+--------------------+-----+------------+-------+------+------+-------------+\n",
      "|[-0.3442728586065...|    1|           1|      1|     0|     1|            0|\n",
      "|[-0.2204784717011...|    0|           0|      0|     0|     0|            0|\n",
      "|[-0.1740033159462...|    0|           0|      0|     0|     0|            0|\n",
      "|[-0.1539773903787...|    0|           0|      0|     0|     0|            0|\n",
      "|[-0.1426669435406...|    0|           0|      0|     0|     0|            0|\n",
      "|[-0.1128956915618...|    0|           0|      0|     0|     0|            0|\n",
      "|[-0.1112639261409...|    0|           0|      0|     0|     0|            0|\n",
      "|[-0.1087569743394...|    0|           0|      0|     0|     0|            0|\n",
      "|[-0.1066568721818...|    0|           0|      0|     0|     0|            0|\n",
      "|[-0.1047635372572...|    0|           0|      0|     0|     0|            0|\n",
      "+--------------------+-----+------------+-------+------+------+-------------+\n",
      "only showing top 10 rows\n",
      "\n"
     ]
    },
    {
     "name": "stderr",
     "output_type": "stream",
     "text": [
      "\r",
      "                                                                                \r"
     ]
    }
   ],
   "source": [
    "train.show(10)"
   ]
  },
  {
   "cell_type": "code",
   "execution_count": 23,
   "id": "2d3da3cc",
   "metadata": {},
   "outputs": [
    {
     "name": "stderr",
     "output_type": "stream",
     "text": [
      "[Stage 183:==============>                                          (1 + 3) / 4]\r"
     ]
    },
    {
     "name": "stdout",
     "output_type": "stream",
     "text": [
      "+--------------------+-----+------------+-------+------+------+-------------+\n",
      "|            features|toxic|severe_toxic|obscene|threat|insult|identity_hate|\n",
      "+--------------------+-----+------------+-------+------+------+-------------+\n",
      "|[-0.1512313705276...|    0|           0|      0|     0|     0|            0|\n",
      "|[-0.0865491916425...|    1|           0|      0|     0|     0|            0|\n",
      "|[-0.0832472965121...|    0|           0|      0|     0|     0|            0|\n",
      "|[-0.0512721965149...|    1|           0|      1|     0|     1|            0|\n",
      "|[-0.0482245184142...|    0|           0|      0|     0|     0|            0|\n",
      "|[-0.0388980275252...|    0|           0|      0|     0|     0|            0|\n",
      "|[-0.0361330453306...|    0|           0|      0|     0|     0|            0|\n",
      "|[-0.0316936473983...|    0|           0|      0|     0|     0|            0|\n",
      "|[-0.0295289954239...|    0|           0|      0|     0|     0|            0|\n",
      "|[-0.0236191414296...|    1|           0|      1|     0|     1|            0|\n",
      "+--------------------+-----+------------+-------+------+------+-------------+\n",
      "only showing top 10 rows\n",
      "\n"
     ]
    },
    {
     "name": "stderr",
     "output_type": "stream",
     "text": [
      "\r",
      "[Stage 183:==========================================>              (3 + 1) / 4]\r",
      "\r",
      "                                                                                \r"
     ]
    }
   ],
   "source": [
    "test.show(10)"
   ]
  },
  {
   "cell_type": "markdown",
   "id": "ad38643e",
   "metadata": {},
   "source": [
    "Данные у нас для мультилейбл-классификации, поэтому будем тренировать несколько классификаторов - по бинарному на каждый лейбл.<br>\n",
    "Всего будет 6 классификаторов."
   ]
  },
  {
   "cell_type": "markdown",
   "id": "8f9e0b2c",
   "metadata": {},
   "source": [
    "### 1. label: toxic"
   ]
  },
  {
   "cell_type": "code",
   "execution_count": 24,
   "id": "5493c7c6",
   "metadata": {},
   "outputs": [
    {
     "name": "stderr",
     "output_type": "stream",
     "text": [
      "[Stage 277:==============>                                          (1 + 3) / 4]\r"
     ]
    }
   ],
   "source": [
    "train_toxic = train.select('features','toxic')\n",
    "test_toxic = test.select('features','toxic')\n",
    "\n",
    "lr_toxic = LogisticRegression(featuresCol='features', labelCol='toxic')\n",
    "lrModel_toxic = lr_toxic.fit(train_toxic)"
   ]
  },
  {
   "cell_type": "code",
   "execution_count": 25,
   "id": "0467f10d",
   "metadata": {},
   "outputs": [
    {
     "name": "stderr",
     "output_type": "stream",
     "text": [
      "                                                                                \r"
     ]
    },
    {
     "data": {
      "image/png": "[encoded data removed]",
      "text/plain": [
       "<Figure size 640x480 with 1 Axes>"
      ]
     },
     "metadata": {},
     "output_type": "display_data"
    },
    {
     "name": "stdout",
     "output_type": "stream",
     "text": [
      "Train areaUnderROC: 0.9521835468307621\n"
     ]
    }
   ],
   "source": [
    "trainingSummary_toxic = lrModel_toxic.summary\n",
    "roc_toxic = trainingSummary_toxic.roc.toPandas()\n",
    "plt.plot(roc_toxic['FPR'],roc_toxic['TPR'])\n",
    "plt.ylabel('False Positive Rate')\n",
    "plt.xlabel('True Positive Rate')\n",
    "plt.title('ROC Curve')\n",
    "plt.show()\n",
    "print('Train areaUnderROC: ' + str(trainingSummary_toxic.areaUnderROC))"
   ]
  },
  {
   "cell_type": "code",
   "execution_count": 26,
   "id": "fae037d0",
   "metadata": {},
   "outputs": [
    {
     "data": {
      "image/png": "[encoded data removed]",
      "text/plain": [
       "<Figure size 640x480 with 1 Axes>"
      ]
     },
     "metadata": {},
     "output_type": "display_data"
    }
   ],
   "source": [
    "pr_toxic = trainingSummary_toxic.pr.toPandas()\n",
    "plt.plot(pr_toxic['recall'],pr_toxic['precision'])\n",
    "plt.ylabel('Precision')\n",
    "plt.xlabel('Recall')\n",
    "plt.show()"
   ]
  },
  {
   "cell_type": "code",
   "execution_count": 27,
   "id": "ad886c93",
   "metadata": {},
   "outputs": [
    {
     "name": "stderr",
     "output_type": "stream",
     "text": [
      "[Stage 305:==============>                                          (1 + 3) / 4]\r"
     ]
    },
    {
     "name": "stdout",
     "output_type": "stream",
     "text": [
      "+-----+--------------------+----------+--------------------+\n",
      "|toxic|       rawPrediction|prediction|         probability|\n",
      "+-----+--------------------+----------+--------------------+\n",
      "|    0|[4.53182795481656...|       0.0|[0.98935357852386...|\n",
      "|    1|[-3.1312787692845...|       1.0|[0.04183531738999...|\n",
      "|    0|[5.43857249839817...|       0.0|[0.99567312092827...|\n",
      "|    1|[0.98286338873388...|       0.0|[0.72767600563327...|\n",
      "|    0|[2.59609014455276...|       0.0|[0.93060952371606...|\n",
      "|    0|[3.93515274421024...|       0.0|[0.98083188296723...|\n",
      "|    0|[5.67254222197075...|       0.0|[0.99657267577960...|\n",
      "|    0|[3.85548400194006...|       0.0|[0.97927524762361...|\n",
      "|    0|[3.85739307217615...|       0.0|[0.97931395722665...|\n",
      "|    1|[-18.267386418910...|       1.0|[1.16566800015760...|\n",
      "+-----+--------------------+----------+--------------------+\n",
      "only showing top 10 rows\n",
      "\n"
     ]
    },
    {
     "name": "stderr",
     "output_type": "stream",
     "text": [
      "\r",
      "                                                                                \r"
     ]
    }
   ],
   "source": [
    "test_toxic_pred = lrModel_toxic.transform(test_toxic)\n",
    "test_toxic_pred.select('toxic', 'rawPrediction', 'prediction', 'probability').show(10)"
   ]
  },
  {
   "cell_type": "markdown",
   "id": "1e766ffe",
   "metadata": {},
   "source": [
    "**Confusion matrix: toxic**"
   ]
  },
  {
   "cell_type": "code",
   "execution_count": 28,
   "id": "bb14a545",
   "metadata": {},
   "outputs": [
    {
     "name": "stderr",
     "output_type": "stream",
     "text": [
      "[Stage 308:==============>                                          (1 + 3) / 4]\r"
     ]
    },
    {
     "name": "stdout",
     "output_type": "stream",
     "text": [
      "+-----+----------+-----+\n",
      "|toxic|prediction|count|\n",
      "+-----+----------+-----+\n",
      "|    1|       0.0| 1333|\n",
      "|    0|       0.0|28214|\n",
      "|    1|       1.0| 1672|\n",
      "|    0|       1.0|  330|\n",
      "+-----+----------+-----+\n",
      "\n"
     ]
    },
    {
     "name": "stderr",
     "output_type": "stream",
     "text": [
      "\r",
      "                                                                                \r"
     ]
    }
   ],
   "source": [
    "test_toxic_pred.groupBy('toxic', 'prediction').count().show()"
   ]
  },
  {
   "cell_type": "markdown",
   "id": "1dfe3a6e",
   "metadata": {},
   "source": [
    "### 2. label: severe_toxic"
   ]
  },
  {
   "cell_type": "code",
   "execution_count": 29,
   "id": "732170de",
   "metadata": {},
   "outputs": [
    {
     "name": "stderr",
     "output_type": "stream",
     "text": [
      "[Stage 435:============================>                            (2 + 2) / 4]\r"
     ]
    }
   ],
   "source": [
    "train_severe_toxic = train.select('features','severe_toxic')\n",
    "test_severe_toxic = test.select('features','severe_toxic')\n",
    "\n",
    "lr_severe_toxic = LogisticRegression(featuresCol='features', labelCol='severe_toxic')\n",
    "lrModel_severe_toxic = lr_severe_toxic.fit(train_severe_toxic)"
   ]
  },
  {
   "cell_type": "code",
   "execution_count": 30,
   "id": "c011c9a3",
   "metadata": {},
   "outputs": [
    {
     "name": "stderr",
     "output_type": "stream",
     "text": [
      "                                                                                \r"
     ]
    },
    {
     "data": {
      "image/png": "[encoded data removed]",
      "text/plain": [
       "<Figure size 640x480 with 1 Axes>"
      ]
     },
     "metadata": {},
     "output_type": "display_data"
    },
    {
     "name": "stdout",
     "output_type": "stream",
     "text": [
      "Train areaUnderROC: 0.9782723108904602\n"
     ]
    }
   ],
   "source": [
    "trainingSummary_severe_toxic = lrModel_severe_toxic.summary\n",
    "roc_severe_toxic = trainingSummary_severe_toxic.roc.toPandas()\n",
    "plt.plot(roc_severe_toxic['FPR'],roc_severe_toxic['TPR'])\n",
    "plt.ylabel('False Positive Rate')\n",
    "plt.xlabel('True Positive Rate')\n",
    "plt.title('ROC Curve')\n",
    "plt.show()\n",
    "print('Train areaUnderROC: ' + str(trainingSummary_severe_toxic.areaUnderROC))"
   ]
  },
  {
   "cell_type": "code",
   "execution_count": 31,
   "id": "06d7ed29",
   "metadata": {},
   "outputs": [
    {
     "data": {
      "image/png": "[encoded data removed]",
      "text/plain": [
       "<Figure size 640x480 with 1 Axes>"
      ]
     },
     "metadata": {},
     "output_type": "display_data"
    }
   ],
   "source": [
    "pr_severe_toxic = trainingSummary_severe_toxic.pr.toPandas()\n",
    "plt.plot(pr_severe_toxic['recall'],pr_severe_toxic['precision'])\n",
    "plt.ylabel('Precision')\n",
    "plt.xlabel('Recall')\n",
    "plt.show()"
   ]
  },
  {
   "cell_type": "code",
   "execution_count": 32,
   "id": "377856f6",
   "metadata": {},
   "outputs": [
    {
     "name": "stderr",
     "output_type": "stream",
     "text": [
      "[Stage 463:==============>                                          (1 + 3) / 4]\r"
     ]
    },
    {
     "name": "stdout",
     "output_type": "stream",
     "text": [
      "+------------+--------------------+----------+--------------------+\n",
      "|severe_toxic|       rawPrediction|prediction|         probability|\n",
      "+------------+--------------------+----------+--------------------+\n",
      "|           0|[4.65143346963163...|       0.0|[0.99054239483658...|\n",
      "|           0|[2.85957957111209...|       0.0|[0.94581175578682...|\n",
      "|           0|[5.40091084218190...|       0.0|[0.99550780198080...|\n",
      "|           0|[5.44746702942463...|       0.0|[0.99571127151699...|\n",
      "|           0|[5.68610431135946...|       0.0|[0.99661868757468...|\n",
      "|           0|[6.19944828454517...|       0.0|[0.99797356416705...|\n",
      "|           0|[6.69069562790352...|       0.0|[0.99875912347607...|\n",
      "|           0|[6.11912213975358...|       0.0|[0.99780444432412...|\n",
      "|           0|[5.38417732599146...|       0.0|[0.99543234549890...|\n",
      "|           0|[0.52802584316706...|       0.0|[0.62902255365006...|\n",
      "+------------+--------------------+----------+--------------------+\n",
      "only showing top 10 rows\n",
      "\n"
     ]
    },
    {
     "name": "stderr",
     "output_type": "stream",
     "text": [
      "\r",
      "                                                                                \r"
     ]
    }
   ],
   "source": [
    "test_severe_toxic_pred = lrModel_severe_toxic.transform(test_severe_toxic)\n",
    "test_severe_toxic_pred.select('severe_toxic', 'rawPrediction', 'prediction', 'probability').show(10)"
   ]
  },
  {
   "cell_type": "markdown",
   "id": "01ea505e",
   "metadata": {},
   "source": [
    "**Confusion matrix: severe_toxic**"
   ]
  },
  {
   "cell_type": "code",
   "execution_count": 33,
   "id": "980b0102",
   "metadata": {},
   "outputs": [
    {
     "name": "stderr",
     "output_type": "stream",
     "text": [
      "[Stage 466:============================>                            (2 + 2) / 4]\r"
     ]
    },
    {
     "name": "stdout",
     "output_type": "stream",
     "text": [
      "+------------+----------+-----+\n",
      "|severe_toxic|prediction|count|\n",
      "+------------+----------+-----+\n",
      "|           1|       0.0|  240|\n",
      "|           0|       0.0|31158|\n",
      "|           1|       1.0|   71|\n",
      "|           0|       1.0|   80|\n",
      "+------------+----------+-----+\n",
      "\n"
     ]
    },
    {
     "name": "stderr",
     "output_type": "stream",
     "text": [
      "\r",
      "                                                                                \r"
     ]
    }
   ],
   "source": [
    "test_severe_toxic_pred.groupBy('severe_toxic', 'prediction').count().show()"
   ]
  },
  {
   "cell_type": "markdown",
   "id": "86456185",
   "metadata": {},
   "source": [
    "### 3. label: obscene"
   ]
  },
  {
   "cell_type": "code",
   "execution_count": 34,
   "id": "c68e0ba3",
   "metadata": {},
   "outputs": [
    {
     "name": "stderr",
     "output_type": "stream",
     "text": [
      "[Stage 567:==============>                                          (1 + 3) / 4]\r"
     ]
    }
   ],
   "source": [
    "train_obscene = train.select('features','obscene')\n",
    "test_obscene = test.select('features','obscene')\n",
    "\n",
    "lr_obscene = LogisticRegression(featuresCol='features', labelCol='obscene')\n",
    "lrModel_obscene = lr_obscene.fit(train_obscene)"
   ]
  },
  {
   "cell_type": "code",
   "execution_count": 35,
   "id": "5b0ef4ca",
   "metadata": {},
   "outputs": [
    {
     "name": "stderr",
     "output_type": "stream",
     "text": [
      "                                                                                \r"
     ]
    },
    {
     "data": {
      "image/png": "[encoded data removed]",
      "text/plain": [
       "<Figure size 640x480 with 1 Axes>"
      ]
     },
     "metadata": {},
     "output_type": "display_data"
    },
    {
     "name": "stdout",
     "output_type": "stream",
     "text": [
      "Train areaUnderROC: 0.9673219325643501\n"
     ]
    }
   ],
   "source": [
    "trainingSummary_obscene = lrModel_obscene.summary\n",
    "roc_obscene = trainingSummary_obscene.roc.toPandas()\n",
    "plt.plot(roc_obscene['FPR'],roc_obscene['TPR'])\n",
    "plt.ylabel('False Positive Rate')\n",
    "plt.xlabel('True Positive Rate')\n",
    "plt.title('ROC Curve')\n",
    "plt.show()\n",
    "print('Train areaUnderROC: ' + str(trainingSummary_obscene.areaUnderROC))"
   ]
  },
  {
   "cell_type": "code",
   "execution_count": 36,
   "id": "e7bb75a0",
   "metadata": {},
   "outputs": [
    {
     "data": {
      "image/png": "[encoded data removed]",
      "text/plain": [
       "<Figure size 640x480 with 1 Axes>"
      ]
     },
     "metadata": {},
     "output_type": "display_data"
    }
   ],
   "source": [
    "pr_obscene = trainingSummary_obscene.pr.toPandas()\n",
    "plt.plot(pr_obscene['recall'],pr_obscene['precision'])\n",
    "plt.ylabel('Precision')\n",
    "plt.xlabel('Recall')\n",
    "plt.show()"
   ]
  },
  {
   "cell_type": "code",
   "execution_count": 37,
   "id": "9b5e3a1f",
   "metadata": {},
   "outputs": [
    {
     "name": "stderr",
     "output_type": "stream",
     "text": [
      "[Stage 595:==============>                                          (1 + 3) / 4]\r"
     ]
    },
    {
     "name": "stdout",
     "output_type": "stream",
     "text": [
      "+-------+--------------------+----------+--------------------+\n",
      "|obscene|       rawPrediction|prediction|         probability|\n",
      "+-------+--------------------+----------+--------------------+\n",
      "|      0|[4.74829466084692...|       0.0|[0.99140800037192...|\n",
      "|      0|[0.03739702991906...|       0.0|[0.50934816802459...|\n",
      "|      0|[5.73833719609523...|       0.0|[0.99679021762750...|\n",
      "|      1|[2.48586063082488...|       0.0|[0.92314463404162...|\n",
      "|      0|[4.03681189616801...|       0.0|[0.98265258100467...|\n",
      "|      0|[4.50582656339776...|       0.0|[0.98907619008529...|\n",
      "|      0|[5.53588059211775...|       0.0|[0.99607274894548...|\n",
      "|      0|[4.65523491969826...|       0.0|[0.99057794109625...|\n",
      "|      0|[4.96305057657105...|       0.0|[0.99305697566224...|\n",
      "|      1|[-15.802176729798...|       1.0|[1.37151886183699...|\n",
      "+-------+--------------------+----------+--------------------+\n",
      "only showing top 10 rows\n",
      "\n"
     ]
    },
    {
     "name": "stderr",
     "output_type": "stream",
     "text": [
      "\r",
      "[Stage 595:==========================================>              (3 + 1) / 4]\r",
      "\r",
      "                                                                                \r"
     ]
    }
   ],
   "source": [
    "test_obscene_pred = lrModel_obscene.transform(test_obscene)\n",
    "test_obscene_pred.select('obscene', 'rawPrediction', 'prediction', 'probability').show(10)"
   ]
  },
  {
   "cell_type": "markdown",
   "id": "1795fe8f",
   "metadata": {},
   "source": [
    "**Confusion matrix: obscene**"
   ]
  },
  {
   "cell_type": "code",
   "execution_count": 38,
   "id": "d4f38c5c",
   "metadata": {},
   "outputs": [
    {
     "name": "stderr",
     "output_type": "stream",
     "text": [
      "[Stage 598:==========================================>              (3 + 1) / 4]\r"
     ]
    },
    {
     "name": "stdout",
     "output_type": "stream",
     "text": [
      "+-------+----------+-----+\n",
      "|obscene|prediction|count|\n",
      "+-------+----------+-----+\n",
      "|      1|       0.0|  767|\n",
      "|      0|       0.0|29688|\n",
      "|      1|       1.0|  904|\n",
      "|      0|       1.0|  190|\n",
      "+-------+----------+-----+\n",
      "\n"
     ]
    },
    {
     "name": "stderr",
     "output_type": "stream",
     "text": [
      "\r",
      "                                                                                \r"
     ]
    }
   ],
   "source": [
    "test_obscene_pred.groupBy('obscene', 'prediction').count().show()"
   ]
  },
  {
   "cell_type": "markdown",
   "id": "0e5b055b",
   "metadata": {},
   "source": [
    "### 4. label: threat"
   ]
  },
  {
   "cell_type": "code",
   "execution_count": 39,
   "id": "803475c6",
   "metadata": {},
   "outputs": [
    {
     "name": "stderr",
     "output_type": "stream",
     "text": [
      "[Stage 745:==============>                                          (1 + 3) / 4]\r"
     ]
    }
   ],
   "source": [
    "train_threat = train.select('features','threat')\n",
    "test_threat = test.select('features','threat')\n",
    "\n",
    "lr_threat = LogisticRegression(featuresCol='features', labelCol='threat')\n",
    "lrModel_threat = lr_threat.fit(train_threat)"
   ]
  },
  {
   "cell_type": "code",
   "execution_count": 40,
   "id": "fa2153f6",
   "metadata": {},
   "outputs": [
    {
     "name": "stderr",
     "output_type": "stream",
     "text": [
      "                                                                                \r"
     ]
    },
    {
     "data": {
      "image/png": "[encoded data removed]",
      "text/plain": [
       "<Figure size 640x480 with 1 Axes>"
      ]
     },
     "metadata": {},
     "output_type": "display_data"
    },
    {
     "name": "stdout",
     "output_type": "stream",
     "text": [
      "Train areaUnderROC: 0.9643031418186038\n"
     ]
    }
   ],
   "source": [
    "trainingSummary_threat = lrModel_threat.summary\n",
    "roc_threat = trainingSummary_threat.roc.toPandas()\n",
    "plt.plot(roc_threat['FPR'],roc_threat['TPR'])\n",
    "plt.ylabel('False Positive Rate')\n",
    "plt.xlabel('True Positive Rate')\n",
    "plt.title('ROC Curve')\n",
    "plt.show()\n",
    "print('Train areaUnderROC: ' + str(trainingSummary_threat.areaUnderROC))"
   ]
  },
  {
   "cell_type": "code",
   "execution_count": 41,
   "id": "a7b76675",
   "metadata": {},
   "outputs": [
    {
     "data": {
      "image/png": "[encoded data removed]",
      "text/plain": [
       "<Figure size 640x480 with 1 Axes>"
      ]
     },
     "metadata": {},
     "output_type": "display_data"
    }
   ],
   "source": [
    "pr_threat = trainingSummary_threat.pr.toPandas()\n",
    "plt.plot(pr_threat['recall'],pr_threat['precision'])\n",
    "plt.ylabel('Precision')\n",
    "plt.xlabel('Recall')\n",
    "plt.show()"
   ]
  },
  {
   "cell_type": "code",
   "execution_count": 42,
   "id": "347f64c6",
   "metadata": {},
   "outputs": [
    {
     "name": "stderr",
     "output_type": "stream",
     "text": [
      "[Stage 773:==============>                                          (1 + 3) / 4]\r"
     ]
    },
    {
     "name": "stdout",
     "output_type": "stream",
     "text": [
      "+------+--------------------+----------+--------------------+\n",
      "|threat|       rawPrediction|prediction|         probability|\n",
      "+------+--------------------+----------+--------------------+\n",
      "|     0|[5.04558882870878...|       0.0|[0.99360350991957...|\n",
      "|     0|[2.15970963920198...|       0.0|[0.89657262644107...|\n",
      "|     0|[7.23606539957097...|       0.0|[0.99928037857298...|\n",
      "|     0|[7.59348449421284...|       0.0|[0.99949653083558...|\n",
      "|     0|[6.47352063311661...|       0.0|[0.99845859851895...|\n",
      "|     0|[7.66555311058489...|       0.0|[0.99953152213232...|\n",
      "|     0|[8.43943189152119...|       0.0|[0.99978387379555...|\n",
      "|     0|[7.34755766005052...|       0.0|[0.99935625097231...|\n",
      "|     0|[6.24126345403467...|       0.0|[0.99805639144506...|\n",
      "|     0|[3.44608325757281...|       0.0|[0.96911412009747...|\n",
      "+------+--------------------+----------+--------------------+\n",
      "only showing top 10 rows\n",
      "\n"
     ]
    },
    {
     "name": "stderr",
     "output_type": "stream",
     "text": [
      "\r",
      "[Stage 773:==========================================>              (3 + 1) / 4]\r",
      "\r",
      "                                                                                \r"
     ]
    }
   ],
   "source": [
    "test_threat_pred = lrModel_threat.transform(test_threat)\n",
    "test_threat_pred.select('threat', 'rawPrediction', 'prediction', 'probability').show(10)"
   ]
  },
  {
   "cell_type": "markdown",
   "id": "9d81d6cc",
   "metadata": {},
   "source": [
    "**Confusion matrix: threat**"
   ]
  },
  {
   "cell_type": "code",
   "execution_count": 43,
   "id": "f790c2f6",
   "metadata": {},
   "outputs": [
    {
     "name": "stderr",
     "output_type": "stream",
     "text": [
      "[Stage 776:==============>                                          (1 + 3) / 4]\r"
     ]
    },
    {
     "name": "stdout",
     "output_type": "stream",
     "text": [
      "+------+----------+-----+\n",
      "|threat|prediction|count|\n",
      "+------+----------+-----+\n",
      "|     1|       0.0|   95|\n",
      "|     0|       0.0|31434|\n",
      "|     1|       1.0|    5|\n",
      "|     0|       1.0|   15|\n",
      "+------+----------+-----+\n",
      "\n"
     ]
    },
    {
     "name": "stderr",
     "output_type": "stream",
     "text": [
      "\r",
      "                                                                                \r"
     ]
    }
   ],
   "source": [
    "test_threat_pred.groupBy('threat', 'prediction').count().show()"
   ]
  },
  {
   "cell_type": "markdown",
   "id": "0b989ffe",
   "metadata": {},
   "source": [
    "### 5. label: insult"
   ]
  },
  {
   "cell_type": "code",
   "execution_count": 44,
   "id": "8f13f7a1",
   "metadata": {},
   "outputs": [
    {
     "name": "stderr",
     "output_type": "stream",
     "text": [
      "[Stage 879:==============>                                          (1 + 3) / 4]\r"
     ]
    }
   ],
   "source": [
    "train_insult = train.select('features','insult')\n",
    "test_insult = test.select('features','insult')\n",
    "\n",
    "lr_insult = LogisticRegression(featuresCol='features', labelCol='insult')\n",
    "lrModel_insult = lr_insult.fit(train_insult)"
   ]
  },
  {
   "cell_type": "code",
   "execution_count": 45,
   "id": "9cbb4efa",
   "metadata": {},
   "outputs": [
    {
     "name": "stderr",
     "output_type": "stream",
     "text": [
      "                                                                                \r"
     ]
    },
    {
     "data": {
      "image/png": "[encoded data removed]",
      "text/plain": [
       "<Figure size 640x480 with 1 Axes>"
      ]
     },
     "metadata": {},
     "output_type": "display_data"
    },
    {
     "name": "stdout",
     "output_type": "stream",
     "text": [
      "Train areaUnderROC: 0.9582378796798813\n"
     ]
    }
   ],
   "source": [
    "trainingSummary_insult = lrModel_insult.summary\n",
    "roc_insult = trainingSummary_insult.roc.toPandas()\n",
    "plt.plot(roc_insult['FPR'],roc_insult['TPR'])\n",
    "plt.ylabel('False Positive Rate')\n",
    "plt.xlabel('True Positive Rate')\n",
    "plt.title('ROC Curve')\n",
    "plt.show()\n",
    "print('Train areaUnderROC: ' + str(trainingSummary_insult.areaUnderROC))"
   ]
  },
  {
   "cell_type": "code",
   "execution_count": 46,
   "id": "f803c3d2",
   "metadata": {},
   "outputs": [
    {
     "data": {
      "image/png": "[encoded data removed]",
      "text/plain": [
       "<Figure size 640x480 with 1 Axes>"
      ]
     },
     "metadata": {},
     "output_type": "display_data"
    }
   ],
   "source": [
    "pr_insult = trainingSummary_insult.pr.toPandas()\n",
    "plt.plot(pr_insult['recall'],pr_insult['precision'])\n",
    "plt.ylabel('Precision')\n",
    "plt.xlabel('Recall')\n",
    "plt.show()"
   ]
  },
  {
   "cell_type": "code",
   "execution_count": 47,
   "id": "e074a512",
   "metadata": {},
   "outputs": [
    {
     "name": "stderr",
     "output_type": "stream",
     "text": [
      "[Stage 907:==============>                                          (1 + 3) / 4]\r"
     ]
    },
    {
     "name": "stdout",
     "output_type": "stream",
     "text": [
      "+------+--------------------+----------+--------------------+\n",
      "|insult|       rawPrediction|prediction|         probability|\n",
      "+------+--------------------+----------+--------------------+\n",
      "|     0|[4.09429817042512...|       0.0|[0.98360580930656...|\n",
      "|     0|[-0.1717514531483...|       1.0|[0.45716737671491...|\n",
      "|     0|[5.46233552892552...|       0.0|[0.99577429928889...|\n",
      "|     1|[2.33081253503291...|       0.0|[0.91139697294231...|\n",
      "|     0|[3.40819550223728...|       0.0|[0.96795968553243...|\n",
      "|     0|[5.04804744941845...|       0.0|[0.99361911691961...|\n",
      "|     0|[5.36359009228979...|       0.0|[0.99533777844497...|\n",
      "|     0|[4.06639314969990...|       0.0|[0.98314970352913...|\n",
      "|     0|[3.86345530900951...|       0.0|[0.97943641062133...|\n",
      "|     1|[-5.2128723224863...|       1.0|[0.00541651014764...|\n",
      "+------+--------------------+----------+--------------------+\n",
      "only showing top 10 rows\n",
      "\n"
     ]
    },
    {
     "name": "stderr",
     "output_type": "stream",
     "text": [
      "\r",
      "                                                                                \r"
     ]
    }
   ],
   "source": [
    "test_insult_pred = lrModel_insult.transform(test_insult)\n",
    "test_insult_pred.select('insult', 'rawPrediction', 'prediction', 'probability').show(10)"
   ]
  },
  {
   "cell_type": "markdown",
   "id": "447fd1a3",
   "metadata": {},
   "source": [
    "**Confusion matrix: insult**"
   ]
  },
  {
   "cell_type": "code",
   "execution_count": 48,
   "id": "07348fb6",
   "metadata": {},
   "outputs": [
    {
     "name": "stderr",
     "output_type": "stream",
     "text": [
      "[Stage 910:==============>                                          (1 + 3) / 4]\r"
     ]
    },
    {
     "name": "stdout",
     "output_type": "stream",
     "text": [
      "+------+----------+-----+\n",
      "|insult|prediction|count|\n",
      "+------+----------+-----+\n",
      "|     1|       0.0|  906|\n",
      "|     0|       0.0|29763|\n",
      "|     1|       1.0|  647|\n",
      "|     0|       1.0|  233|\n",
      "+------+----------+-----+\n",
      "\n"
     ]
    },
    {
     "name": "stderr",
     "output_type": "stream",
     "text": [
      "\r",
      "                                                                                \r"
     ]
    }
   ],
   "source": [
    "test_insult_pred.groupBy('insult', 'prediction').count().show()"
   ]
  },
  {
   "cell_type": "markdown",
   "id": "8ee9100e",
   "metadata": {},
   "source": [
    "### 6. label: identity_hate"
   ]
  },
  {
   "cell_type": "code",
   "execution_count": 49,
   "id": "5ff01925",
   "metadata": {},
   "outputs": [
    {
     "name": "stderr",
     "output_type": "stream",
     "text": [
      "[Stage 1041:==============>                                         (1 + 3) / 4]\r"
     ]
    }
   ],
   "source": [
    "train_identity_hate = train.select('features','identity_hate')\n",
    "test_identity_hate = test.select('features','identity_hate')\n",
    "\n",
    "lr_identity_hate = LogisticRegression(featuresCol='features', labelCol='identity_hate')\n",
    "lrModel_identity_hate = lr_identity_hate.fit(train_identity_hate)"
   ]
  },
  {
   "cell_type": "code",
   "execution_count": 50,
   "id": "9e20aac5",
   "metadata": {},
   "outputs": [
    {
     "name": "stderr",
     "output_type": "stream",
     "text": [
      "                                                                                \r"
     ]
    },
    {
     "data": {
      "image/png": "[encoded data removed]",
      "text/plain": [
       "<Figure size 640x480 with 1 Axes>"
      ]
     },
     "metadata": {},
     "output_type": "display_data"
    },
    {
     "name": "stdout",
     "output_type": "stream",
     "text": [
      "Train areaUnderROC: 0.9523323578906918\n"
     ]
    }
   ],
   "source": [
    "trainingSummary_identity_hate = lrModel_identity_hate.summary\n",
    "roc_identity_hate = trainingSummary_identity_hate.roc.toPandas()\n",
    "plt.plot(roc_identity_hate['FPR'],roc_identity_hate['TPR'])\n",
    "plt.ylabel('False Positive Rate')\n",
    "plt.xlabel('True Positive Rate')\n",
    "plt.title('ROC Curve')\n",
    "plt.show()\n",
    "print('Train areaUnderROC: ' + str(trainingSummary_identity_hate.areaUnderROC))"
   ]
  },
  {
   "cell_type": "code",
   "execution_count": 51,
   "id": "fdc280fe",
   "metadata": {},
   "outputs": [
    {
     "data": {
      "image/png": "[encoded data removed]",
      "text/plain": [
       "<Figure size 640x480 with 1 Axes>"
      ]
     },
     "metadata": {},
     "output_type": "display_data"
    }
   ],
   "source": [
    "pr_identity_hate = trainingSummary_identity_hate.pr.toPandas()\n",
    "plt.plot(pr_identity_hate['recall'],pr_identity_hate['precision'])\n",
    "plt.ylabel('Precision')\n",
    "plt.xlabel('Recall')\n",
    "plt.show()"
   ]
  },
  {
   "cell_type": "code",
   "execution_count": 52,
   "id": "55d149ea",
   "metadata": {},
   "outputs": [
    {
     "name": "stderr",
     "output_type": "stream",
     "text": [
      "[Stage 1069:==============>                                         (1 + 3) / 4]\r"
     ]
    },
    {
     "name": "stdout",
     "output_type": "stream",
     "text": [
      "+-------------+--------------------+----------+--------------------+\n",
      "|identity_hate|       rawPrediction|prediction|         probability|\n",
      "+-------------+--------------------+----------+--------------------+\n",
      "|            0|[6.06458482544560...|       0.0|[0.99768166460350...|\n",
      "|            0|[2.00373551490444...|       0.0|[0.88118872551749...|\n",
      "|            0|[5.70534016008624...|       0.0|[0.99668289471722...|\n",
      "|            0|[5.34933004150909...|       0.0|[0.99527113528227...|\n",
      "|            0|[5.06288021344937...|       0.0|[0.99371247388011...|\n",
      "|            0|[6.15750170284623...|       0.0|[0.99788693758228...|\n",
      "|            0|[5.92070475304341...|       0.0|[0.99732387243504...|\n",
      "|            0|[5.77599726482859...|       0.0|[0.99690848361764...|\n",
      "|            0|[5.60045141460405...|       0.0|[0.99631741672174...|\n",
      "|            0|[2.20308010697072...|       0.0|[0.90052576471251...|\n",
      "+-------------+--------------------+----------+--------------------+\n",
      "only showing top 10 rows\n",
      "\n"
     ]
    },
    {
     "name": "stderr",
     "output_type": "stream",
     "text": [
      "\r",
      "                                                                                \r"
     ]
    }
   ],
   "source": [
    "test_identity_hate_pred = lrModel_identity_hate.transform(test_identity_hate)\n",
    "test_identity_hate_pred.select('identity_hate', 'rawPrediction', 'prediction', 'probability').show(10)"
   ]
  },
  {
   "cell_type": "markdown",
   "id": "dcc81565",
   "metadata": {},
   "source": [
    "**Confusion matrix: identity_hate**"
   ]
  },
  {
   "cell_type": "code",
   "execution_count": 53,
   "id": "666998e9",
   "metadata": {},
   "outputs": [
    {
     "name": "stderr",
     "output_type": "stream",
     "text": [
      "[Stage 1072:============================>                           (2 + 2) / 4]\r"
     ]
    },
    {
     "name": "stdout",
     "output_type": "stream",
     "text": [
      "+-------------+----------+-----+\n",
      "|identity_hate|prediction|count|\n",
      "+-------------+----------+-----+\n",
      "|            1|       0.0|  247|\n",
      "|            0|       0.0|31235|\n",
      "|            1|       1.0|   35|\n",
      "|            0|       1.0|   32|\n",
      "+-------------+----------+-----+\n",
      "\n"
     ]
    },
    {
     "name": "stderr",
     "output_type": "stream",
     "text": [
      "\r",
      "                                                                                \r"
     ]
    }
   ],
   "source": [
    "test_identity_hate_pred.groupBy('identity_hate', 'prediction').count().show()"
   ]
  },
  {
   "cell_type": "code",
   "execution_count": 54,
   "id": "9e3ff2d2",
   "metadata": {},
   "outputs": [],
   "source": [
    "spark.stop()"
   ]
  },
  {
   "cell_type": "markdown",
   "id": "2010cfa7",
   "metadata": {},
   "source": [
    "### Вывод: Word2Vec показывает лучшее качество даже при длине вектора в 100 против TF-IDF при длине вектора в 1024."
   ]
  },
  {
   "cell_type": "code",
   "execution_count": null,
   "id": "a22d71da",
   "metadata": {},
   "outputs": [],
   "source": []
  }
 ],
 "metadata": {
  "kernelspec": {
   "display_name": "Python 3 (ipykernel)",
   "language": "python",
   "name": "python3"
  },
  "language_info": {
   "codemirror_mode": {
    "name": "ipython",
    "version": 3
   },
   "file_extension": ".py",
   "mimetype": "text/x-python",
   "name": "python",
   "nbconvert_exporter": "python",
   "pygments_lexer": "ipython3",
   "version": "3.10.6"
  }
 },
 "nbformat": 4,
 "nbformat_minor": 5
}
